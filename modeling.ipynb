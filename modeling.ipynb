{
 "cells": [
  {
   "cell_type": "code",
   "execution_count": 38,
   "metadata": {},
   "outputs": [],
   "source": [
    "'''This script loads pre-trained word embeddings (GloVe embeddings)\n",
    "into a frozen Keras Embedding layer, and uses it to\n",
    "train a text classification model.\n",
    "\n",
    "GloVe embedding data can be found at:\n",
    "http://nlp.stanford.edu/data/glove.6B.zip\n",
    "(source page: http://nlp.stanford.edu/projects/glove/)\n",
    "'''\n",
    "\n",
    "from __future__ import print_function\n",
    "\n",
    "import os\n",
    "import sys\n",
    "import numpy as np\n",
    "import json\n",
    "from keras.callbacks import TensorBoard\n",
    "from keras.preprocessing.text import Tokenizer\n",
    "from keras.preprocessing.sequence import pad_sequences\n",
    "from keras.utils import to_categorical\n",
    "from keras.layers import Dense, Input, GlobalMaxPooling1D\n",
    "from keras.layers import Conv1D, MaxPooling1D, Embedding, Dropout, GaussianNoise\n",
    "from keras.models import Model\n",
    "from keras.models import load_model\n",
    "import tensorflowjs as tfjs\n",
    "import datetime\n",
    "import time\n",
    "\n",
    "st = datetime.datetime.fromtimestamp(time.time()).strftime('%Y_%m_%d')\n",
    "\n",
    "BASE_DIR = './'\n",
    "GLOVE_DIR = BASE_DIR + 'glove.6B/'\n",
    "GLOVE_EMBEDDING = 'glove.6B.100d.txt'\n",
    "SAVE_DIR = BASE_DIR + 'models/' + st + '/'\n",
    "MAX_SEQUENCE_LENGTH = 1000\n",
    "MAX_NUM_WORDS = 20000\n",
    "EMBEDDING_DIM = 100\n",
    "VALIDATION_SPLIT = 0.2\n",
    "EPOCHS = 750\n",
    "BATCH_SIZE = 64"
   ]
  },
  {
   "cell_type": "code",
   "execution_count": 26,
   "metadata": {},
   "outputs": [
    {
     "name": "stdout",
     "output_type": "stream",
     "text": [
      "Found 400000 word vectors.\n"
     ]
    }
   ],
   "source": [
    "# first, build index mapping words in the embeddings set\n",
    "# to their embedding vector\n",
    "\n",
    "embeddings_index = {}\n",
    "with open(os.path.join(GLOVE_DIR, GLOVE_EMBEDDING)) as f:\n",
    "    for line in f:\n",
    "        values = line.split()\n",
    "        word = values[0]\n",
    "        coefs = np.asarray(values[1:], dtype='float32')\n",
    "        embeddings_index[word] = coefs\n",
    "\n",
    "print('Found %s word vectors.' % len(embeddings_index))\n"
   ]
  },
  {
   "cell_type": "code",
   "execution_count": 28,
   "metadata": {},
   "outputs": [],
   "source": [
    "texts_file = open(\"data_x.txt\", \"r\")\n",
    "texts = texts_file.readlines()\n",
    "texts_file.close()\n",
    "\n",
    "labels_file = open(\"data_y.txt\", \"r\")\n",
    "labels = labels_file.readlines()\n",
    "labels_file.close()"
   ]
  },
  {
   "cell_type": "code",
   "execution_count": 29,
   "metadata": {},
   "outputs": [
    {
     "name": "stdout",
     "output_type": "stream",
     "text": [
      "Processing text dataset\n",
      "Found 4591 unique tokens.\n",
      "Shape of data tensor: (676, 1000)\n",
      "Shape of label tensor: (676, 4)\n"
     ]
    }
   ],
   "source": [
    "# second, prepare text samples and their labels\n",
    "print('Processing text dataset')\n",
    "\n",
    "# dictionary mapping label name to numeric id\n",
    "labels_index = {\n",
    "    \"Analgesics\":0,\n",
    "    \"Antibacterials\":1,\n",
    "    \"Blood Products/Modifiers/Volume Expanders\":2,\n",
    "    \"Cardiovascular Agents\":3\n",
    "}\n",
    "\n",
    "# finally, vectorize the text samples into a 2D integer tensor\n",
    "tokenizer = Tokenizer(num_words=MAX_NUM_WORDS)\n",
    "tokenizer.fit_on_texts(texts)\n",
    "sequences = tokenizer.texts_to_sequences(texts)\n",
    "\n",
    "word_index = tokenizer.word_index\n",
    "print('Found %s unique tokens.' % len(word_index))\n",
    "\n",
    "data = pad_sequences(sequences, maxlen=MAX_SEQUENCE_LENGTH)\n",
    "\n",
    "labels = to_categorical(np.asarray(labels))\n",
    "print('Shape of data tensor:', data.shape)\n",
    "print('Shape of label tensor:', labels.shape)\n",
    "\n",
    "# split the data into a training set and a validation set\n",
    "indices = np.arange(data.shape[0])\n",
    "np.random.shuffle(indices)\n",
    "data = data[indices]\n",
    "labels = labels[indices]\n",
    "num_validation_samples = int(VALIDATION_SPLIT * data.shape[0])\n",
    "\n",
    "x_train = data[:-num_validation_samples]\n",
    "y_train = labels[:-num_validation_samples]\n",
    "x_val = data[-num_validation_samples:]\n",
    "y_val = labels[-num_validation_samples:]"
   ]
  },
  {
   "cell_type": "code",
   "execution_count": 30,
   "metadata": {},
   "outputs": [],
   "source": [
    "# prepare embedding matrix\n",
    "num_words = min(MAX_NUM_WORDS, len(word_index) + 1)\n",
    "embedding_matrix = np.zeros((num_words, EMBEDDING_DIM))\n",
    "for word, i in word_index.items():\n",
    "    if i >= MAX_NUM_WORDS:\n",
    "        continue\n",
    "    embedding_vector = embeddings_index.get(word)\n",
    "    if embedding_vector is not None:\n",
    "        # words not found in embedding index will be all-zeros.\n",
    "        embedding_matrix[i] = embedding_vector\n",
    "\n",
    "# load pre-trained word embeddings into an Embedding layer\n",
    "# note that we set trainable = False so as to keep the embeddings fixed\n",
    "embedding_layer = Embedding(num_words,\n",
    "                            EMBEDDING_DIM,\n",
    "                            weights=[embedding_matrix],\n",
    "                            input_length=MAX_SEQUENCE_LENGTH,\n",
    "                            trainable=False)\n",
    "\n",
    "sequence_input = Input(shape=(MAX_SEQUENCE_LENGTH,), dtype='float32')\n",
    "embedded_sequences = embedding_layer(sequence_input)"
   ]
  },
  {
   "cell_type": "code",
   "execution_count": 35,
   "metadata": {},
   "outputs": [
    {
     "name": "stdout",
     "output_type": "stream",
     "text": [
      "Training model.\n",
      "Train on 541 samples, validate on 135 samples\n",
      "Epoch 1/10\n",
      "541/541 [==============================] - 6s 11ms/step - loss: 2.7415 - acc: 0.2495 - val_loss: 1.3701 - val_acc: 0.3185\n",
      "Epoch 2/10\n",
      "541/541 [==============================] - 5s 10ms/step - loss: 1.3834 - acc: 0.3050 - val_loss: 1.3719 - val_acc: 0.3111\n",
      "Epoch 3/10\n",
      "541/541 [==============================] - 5s 10ms/step - loss: 1.3891 - acc: 0.2865 - val_loss: 1.3688 - val_acc: 0.3111\n",
      "Epoch 4/10\n",
      "541/541 [==============================] - 5s 10ms/step - loss: 1.3826 - acc: 0.3031 - val_loss: 1.3692 - val_acc: 0.3185\n",
      "Epoch 5/10\n",
      "541/541 [==============================] - 5s 10ms/step - loss: 1.3756 - acc: 0.2884 - val_loss: 1.3716 - val_acc: 0.3037\n",
      "Epoch 6/10\n",
      "541/541 [==============================] - 6s 10ms/step - loss: 1.3847 - acc: 0.2773 - val_loss: 1.3679 - val_acc: 0.3037\n",
      "Epoch 7/10\n",
      "541/541 [==============================] - 5s 10ms/step - loss: 1.3786 - acc: 0.3087 - val_loss: 1.3685 - val_acc: 0.3037\n",
      "Epoch 8/10\n",
      "541/541 [==============================] - 5s 10ms/step - loss: 1.3697 - acc: 0.3050 - val_loss: 1.3659 - val_acc: 0.3037\n",
      "Epoch 9/10\n",
      "541/541 [==============================] - 6s 11ms/step - loss: 1.3818 - acc: 0.2884 - val_loss: 1.3642 - val_acc: 0.3111\n",
      "Epoch 10/10\n",
      "541/541 [==============================] - 6s 12ms/step - loss: 1.3769 - acc: 0.3105 - val_loss: 1.3575 - val_acc: 0.4000\n",
      "135/135 [==============================] - 1s 5ms/step\n",
      "Test loss / test accuracy = 1.3575 / 0.4000\n"
     ]
    }
   ],
   "source": [
    "print('Training model.')\n",
    "tbCallBack = TensorBoard(log_dir='./Graph/{}/'.format(st), histogram_freq=0, write_graph=True, write_images=True)\n",
    "\n",
    "# train a 1D convnet with global maxpooling\n",
    "x = Conv1D(128, 5, activation='relu')(embedded_sequences)\n",
    "x = GaussianNoise(0.25)(x)\n",
    "x = MaxPooling1D(5)(x)\n",
    "x = Conv1D(128, 5, activation='relu')(x)\n",
    "x = MaxPooling1D(5)(x)\n",
    "x = Conv1D(128, 5, activation='relu')(x)\n",
    "x = GlobalMaxPooling1D()(x)\n",
    "x = Dropout(0.5)(x)\n",
    "x = Dense(128, activation='relu')(x)\n",
    "preds = Dense(len(labels_index), activation='softmax')(x)\n",
    "\n",
    "model = Model(sequence_input, preds)\n",
    "model.compile(loss='categorical_crossentropy',\n",
    "              optimizer='adagrad',\n",
    "              metrics=['acc'])\n",
    "\n",
    "model.fit(x_train, y_train,\n",
    "          batch_size=BATCH_SIZE,\n",
    "          epochs=EPOCHS,\n",
    "          validation_data=(x_val, y_val),\n",
    "          callbacks=[tbCallBack], \n",
    "          verbose=0)\n",
    "\n",
    "loss, acc = model.evaluate(x_val, y_val,\n",
    "                           batch_size=64)\n",
    "\n",
    "print('Test loss / test accuracy = {:.4f} / {:.4f}'.format(loss, acc))"
   ]
  },
  {
   "cell_type": "code",
   "execution_count": 79,
   "metadata": {},
   "outputs": [],
   "source": [
    "model.save(SAVE_DIR + \"model.h5\")\n",
    "\n",
    "word_index = tokenizer.word_index\n",
    "metadata = {\n",
    "      'word_index': word_index,\n",
    "      'index_from': 1,\n",
    "      'max_len': MAX_SEQUENCE_LENGTH,\n",
    "      'model_type': \"CNN\",\n",
    "      'vocabulary_size': MAX_NUM_WORDS,\n",
    "      'embedding_size': EMBEDDING_DIM,\n",
    "      'epochs': EPOCHS,\n",
    "      'batch_size': BATCH_SIZE,\n",
    "  }\n",
    "\n",
    "metadata_json_path = SAVE_DIR + 'metadata.json'\n",
    "json.dump(metadata, open(metadata_json_path, 'wt'))"
   ]
  },
  {
   "cell_type": "code",
   "execution_count": null,
   "metadata": {},
   "outputs": [],
   "source": [
    "# model = load_model('model_2018_04_18.h5')\n",
    "\n",
    "# write out the model to a tensorflow json object\n",
    "# tfjs.converters.save_keras_model(model, \"./tfjs-webserver/resources/\")"
   ]
  },
  {
   "cell_type": "code",
   "execution_count": 22,
   "metadata": {},
   "outputs": [
    {
     "name": "stdout",
     "output_type": "stream",
     "text": [
      "(1,)\n"
     ]
    }
   ],
   "source": [
    "# text = np.array(['infection with streptococcus seen in the left eye'])\n",
    "# print(text.shape)\n",
    "\n",
    "# text = tokenizer.texts_to_sequences(text)\n",
    "\n",
    "# pred_X = pad_sequences(text, maxlen=MAX_SEQUENCE_LENGTH)\n",
    "# pred = model.predict(pred_X)"
   ]
  },
  {
   "cell_type": "code",
   "execution_count": null,
   "metadata": {},
   "outputs": [],
   "source": []
  }
 ],
 "metadata": {
  "kernelspec": {
   "display_name": "Python 3",
   "language": "python",
   "name": "python3"
  },
  "language_info": {
   "codemirror_mode": {
    "name": "ipython",
    "version": 3
   },
   "file_extension": ".py",
   "mimetype": "text/x-python",
   "name": "python",
   "nbconvert_exporter": "python",
   "pygments_lexer": "ipython3",
   "version": "3.5.3"
  }
 },
 "nbformat": 4,
 "nbformat_minor": 2
}
